{
 "cells": [
  {
   "cell_type": "code",
   "execution_count": 1,
   "id": "8d3dc359",
   "metadata": {},
   "outputs": [],
   "source": [
    "import pandas as pd\n",
    "import numpy as np\n"
   ]
  },
  {
   "cell_type": "code",
   "execution_count": 20,
   "id": "8510cb49",
   "metadata": {},
   "outputs": [],
   "source": [
    "data = pd.read_excel(\"sales_data_sample.xlsx\")"
   ]
  },
  {
   "cell_type": "code",
   "execution_count": 21,
   "id": "5bb74862",
   "metadata": {},
   "outputs": [
    {
     "data": {
      "text/html": [
       "<div>\n",
       "<style scoped>\n",
       "    .dataframe tbody tr th:only-of-type {\n",
       "        vertical-align: middle;\n",
       "    }\n",
       "\n",
       "    .dataframe tbody tr th {\n",
       "        vertical-align: top;\n",
       "    }\n",
       "\n",
       "    .dataframe thead th {\n",
       "        text-align: right;\n",
       "    }\n",
       "</style>\n",
       "<table border=\"1\" class=\"dataframe\">\n",
       "  <thead>\n",
       "    <tr style=\"text-align: right;\">\n",
       "      <th></th>\n",
       "      <th>ORDERNUMBER</th>\n",
       "      <th>QUANTITYORDERED</th>\n",
       "      <th>PRICEEACH</th>\n",
       "      <th>ORDERLINENUMBER</th>\n",
       "      <th>SALES</th>\n",
       "      <th>ORDERDATE</th>\n",
       "      <th>STATUS</th>\n",
       "      <th>QTR_ID</th>\n",
       "      <th>MONTH_ID</th>\n",
       "      <th>YEAR_ID</th>\n",
       "      <th>...</th>\n",
       "      <th>ADDRESSLINE1</th>\n",
       "      <th>ADDRESSLINE2</th>\n",
       "      <th>CITY</th>\n",
       "      <th>STATE</th>\n",
       "      <th>POSTALCODE</th>\n",
       "      <th>COUNTRY</th>\n",
       "      <th>TERRITORY</th>\n",
       "      <th>CONTACTLASTNAME</th>\n",
       "      <th>CONTACTFIRSTNAME</th>\n",
       "      <th>DEALSIZE</th>\n",
       "    </tr>\n",
       "  </thead>\n",
       "  <tbody>\n",
       "    <tr>\n",
       "      <th>0</th>\n",
       "      <td>10107</td>\n",
       "      <td>30</td>\n",
       "      <td>95.70</td>\n",
       "      <td>2</td>\n",
       "      <td>2871.00</td>\n",
       "      <td>2/24/2003 0:00</td>\n",
       "      <td>Shipped</td>\n",
       "      <td>1</td>\n",
       "      <td>2</td>\n",
       "      <td>2003</td>\n",
       "      <td>...</td>\n",
       "      <td>897 Long Airport Avenue</td>\n",
       "      <td>NaN</td>\n",
       "      <td>NYC</td>\n",
       "      <td>NY</td>\n",
       "      <td>10022</td>\n",
       "      <td>USA</td>\n",
       "      <td>NaN</td>\n",
       "      <td>Yu</td>\n",
       "      <td>Kwai</td>\n",
       "      <td>Small</td>\n",
       "    </tr>\n",
       "    <tr>\n",
       "      <th>1</th>\n",
       "      <td>10121</td>\n",
       "      <td>34</td>\n",
       "      <td>81.35</td>\n",
       "      <td>5</td>\n",
       "      <td>2765.90</td>\n",
       "      <td>5/7/2003 0:00</td>\n",
       "      <td>Shipped</td>\n",
       "      <td>2</td>\n",
       "      <td>5</td>\n",
       "      <td>2003</td>\n",
       "      <td>...</td>\n",
       "      <td>59 rue de l'Abbaye</td>\n",
       "      <td>NaN</td>\n",
       "      <td>Reims</td>\n",
       "      <td>NaN</td>\n",
       "      <td>51100</td>\n",
       "      <td>France</td>\n",
       "      <td>EMEA</td>\n",
       "      <td>Henriot</td>\n",
       "      <td>Paul</td>\n",
       "      <td>Small</td>\n",
       "    </tr>\n",
       "    <tr>\n",
       "      <th>2</th>\n",
       "      <td>10134</td>\n",
       "      <td>41</td>\n",
       "      <td>94.74</td>\n",
       "      <td>2</td>\n",
       "      <td>3884.34</td>\n",
       "      <td>7/1/2003 0:00</td>\n",
       "      <td>Shipped</td>\n",
       "      <td>3</td>\n",
       "      <td>7</td>\n",
       "      <td>2003</td>\n",
       "      <td>...</td>\n",
       "      <td>27 rue du Colonel Pierre Avia</td>\n",
       "      <td>NaN</td>\n",
       "      <td>Paris</td>\n",
       "      <td>NaN</td>\n",
       "      <td>75508</td>\n",
       "      <td>France</td>\n",
       "      <td>EMEA</td>\n",
       "      <td>Da Cunha</td>\n",
       "      <td>Daniel</td>\n",
       "      <td>Medium</td>\n",
       "    </tr>\n",
       "    <tr>\n",
       "      <th>3</th>\n",
       "      <td>10145</td>\n",
       "      <td>45</td>\n",
       "      <td>83.26</td>\n",
       "      <td>6</td>\n",
       "      <td>3746.70</td>\n",
       "      <td>8/25/2003 0:00</td>\n",
       "      <td>Shipped</td>\n",
       "      <td>3</td>\n",
       "      <td>8</td>\n",
       "      <td>2003</td>\n",
       "      <td>...</td>\n",
       "      <td>78934 Hillside Dr.</td>\n",
       "      <td>NaN</td>\n",
       "      <td>Pasadena</td>\n",
       "      <td>CA</td>\n",
       "      <td>90003</td>\n",
       "      <td>USA</td>\n",
       "      <td>NaN</td>\n",
       "      <td>Young</td>\n",
       "      <td>Julie</td>\n",
       "      <td>Medium</td>\n",
       "    </tr>\n",
       "    <tr>\n",
       "      <th>4</th>\n",
       "      <td>10159</td>\n",
       "      <td>49</td>\n",
       "      <td>100.00</td>\n",
       "      <td>14</td>\n",
       "      <td>5205.27</td>\n",
       "      <td>10/10/2003 0:00</td>\n",
       "      <td>Shipped</td>\n",
       "      <td>4</td>\n",
       "      <td>10</td>\n",
       "      <td>2003</td>\n",
       "      <td>...</td>\n",
       "      <td>7734 Strong St.</td>\n",
       "      <td>NaN</td>\n",
       "      <td>San Francisco</td>\n",
       "      <td>CA</td>\n",
       "      <td>NaN</td>\n",
       "      <td>USA</td>\n",
       "      <td>NaN</td>\n",
       "      <td>Brown</td>\n",
       "      <td>Julie</td>\n",
       "      <td>Medium</td>\n",
       "    </tr>\n",
       "  </tbody>\n",
       "</table>\n",
       "<p>5 rows × 25 columns</p>\n",
       "</div>"
      ],
      "text/plain": [
       "   ORDERNUMBER  QUANTITYORDERED  PRICEEACH  ORDERLINENUMBER    SALES  \\\n",
       "0        10107               30      95.70                2  2871.00   \n",
       "1        10121               34      81.35                5  2765.90   \n",
       "2        10134               41      94.74                2  3884.34   \n",
       "3        10145               45      83.26                6  3746.70   \n",
       "4        10159               49     100.00               14  5205.27   \n",
       "\n",
       "         ORDERDATE   STATUS  QTR_ID  MONTH_ID  YEAR_ID  ...  \\\n",
       "0   2/24/2003 0:00  Shipped       1         2     2003  ...   \n",
       "1    5/7/2003 0:00  Shipped       2         5     2003  ...   \n",
       "2    7/1/2003 0:00  Shipped       3         7     2003  ...   \n",
       "3   8/25/2003 0:00  Shipped       3         8     2003  ...   \n",
       "4  10/10/2003 0:00  Shipped       4        10     2003  ...   \n",
       "\n",
       "                    ADDRESSLINE1  ADDRESSLINE2           CITY STATE  \\\n",
       "0        897 Long Airport Avenue           NaN            NYC    NY   \n",
       "1             59 rue de l'Abbaye           NaN          Reims   NaN   \n",
       "2  27 rue du Colonel Pierre Avia           NaN          Paris   NaN   \n",
       "3             78934 Hillside Dr.           NaN       Pasadena    CA   \n",
       "4                7734 Strong St.           NaN  San Francisco    CA   \n",
       "\n",
       "  POSTALCODE COUNTRY TERRITORY CONTACTLASTNAME CONTACTFIRSTNAME DEALSIZE  \n",
       "0      10022     USA       NaN              Yu             Kwai    Small  \n",
       "1      51100  France      EMEA         Henriot             Paul    Small  \n",
       "2      75508  France      EMEA        Da Cunha           Daniel   Medium  \n",
       "3      90003     USA       NaN           Young            Julie   Medium  \n",
       "4        NaN     USA       NaN           Brown            Julie   Medium  \n",
       "\n",
       "[5 rows x 25 columns]"
      ]
     },
     "execution_count": 21,
     "metadata": {},
     "output_type": "execute_result"
    }
   ],
   "source": [
    "data.head()"
   ]
  },
  {
   "cell_type": "code",
   "execution_count": 22,
   "id": "577fe7c6",
   "metadata": {},
   "outputs": [
    {
     "data": {
      "text/plain": [
       "<bound method NDFrame.describe of       ORDERNUMBER  QUANTITYORDERED  PRICEEACH  ORDERLINENUMBER    SALES  \\\n",
       "0           10107               30      95.70                2  2871.00   \n",
       "1           10121               34      81.35                5  2765.90   \n",
       "2           10134               41      94.74                2  3884.34   \n",
       "3           10145               45      83.26                6  3746.70   \n",
       "4           10159               49     100.00               14  5205.27   \n",
       "...           ...              ...        ...              ...      ...   \n",
       "2818        10350               20     100.00               15  2244.40   \n",
       "2819        10373               29     100.00                1  3978.51   \n",
       "2820        10386               43     100.00                4  5417.57   \n",
       "2821        10397               34      62.24                1  2116.16   \n",
       "2822        10414               47      65.52                9  3079.44   \n",
       "\n",
       "            ORDERDATE    STATUS  QTR_ID  MONTH_ID  YEAR_ID  ...  \\\n",
       "0      2/24/2003 0:00   Shipped       1         2     2003  ...   \n",
       "1       5/7/2003 0:00   Shipped       2         5     2003  ...   \n",
       "2       7/1/2003 0:00   Shipped       3         7     2003  ...   \n",
       "3      8/25/2003 0:00   Shipped       3         8     2003  ...   \n",
       "4     10/10/2003 0:00   Shipped       4        10     2003  ...   \n",
       "...               ...       ...     ...       ...      ...  ...   \n",
       "2818   12/2/2004 0:00   Shipped       4        12     2004  ...   \n",
       "2819   1/31/2005 0:00   Shipped       1         1     2005  ...   \n",
       "2820    3/1/2005 0:00  Resolved       1         3     2005  ...   \n",
       "2821   3/28/2005 0:00   Shipped       1         3     2005  ...   \n",
       "2822    5/6/2005 0:00   On Hold       2         5     2005  ...   \n",
       "\n",
       "                       ADDRESSLINE1  ADDRESSLINE2           CITY STATE  \\\n",
       "0           897 Long Airport Avenue           NaN            NYC    NY   \n",
       "1                59 rue de l'Abbaye           NaN          Reims   NaN   \n",
       "2     27 rue du Colonel Pierre Avia           NaN          Paris   NaN   \n",
       "3                78934 Hillside Dr.           NaN       Pasadena    CA   \n",
       "4                   7734 Strong St.           NaN  San Francisco    CA   \n",
       "...                             ...           ...            ...   ...   \n",
       "2818             C/ Moralzarzal, 86           NaN         Madrid   NaN   \n",
       "2819                    Torikatu 38           NaN           Oulu   NaN   \n",
       "2820             C/ Moralzarzal, 86           NaN         Madrid   NaN   \n",
       "2821          1 rue Alsace-Lorraine           NaN       Toulouse   NaN   \n",
       "2822             8616 Spinnaker Dr.           NaN         Boston    MA   \n",
       "\n",
       "     POSTALCODE  COUNTRY TERRITORY CONTACTLASTNAME CONTACTFIRSTNAME DEALSIZE  \n",
       "0         10022      USA       NaN              Yu             Kwai    Small  \n",
       "1         51100   France      EMEA         Henriot             Paul    Small  \n",
       "2         75508   France      EMEA        Da Cunha           Daniel   Medium  \n",
       "3         90003      USA       NaN           Young            Julie   Medium  \n",
       "4           NaN      USA       NaN           Brown            Julie   Medium  \n",
       "...         ...      ...       ...             ...              ...      ...  \n",
       "2818      28034    Spain      EMEA          Freyre            Diego    Small  \n",
       "2819      90110  Finland      EMEA       Koskitalo           Pirkko   Medium  \n",
       "2820      28034    Spain      EMEA          Freyre            Diego   Medium  \n",
       "2821      31000   France      EMEA          Roulet          Annette    Small  \n",
       "2822      51003      USA       NaN         Yoshido             Juri   Medium  \n",
       "\n",
       "[2823 rows x 25 columns]>"
      ]
     },
     "execution_count": 22,
     "metadata": {},
     "output_type": "execute_result"
    }
   ],
   "source": [
    "data.describe"
   ]
  },
  {
   "cell_type": "code",
   "execution_count": 23,
   "id": "16b4684a",
   "metadata": {},
   "outputs": [
    {
     "data": {
      "text/plain": [
       "Index(['ORDERNUMBER', 'QUANTITYORDERED', 'PRICEEACH', 'ORDERLINENUMBER',\n",
       "       'SALES', 'ORDERDATE', 'STATUS', 'QTR_ID', 'MONTH_ID', 'YEAR_ID',\n",
       "       'PRODUCTLINE', 'MSRP', 'PRODUCTCODE', 'CUSTOMERNAME', 'PHONE',\n",
       "       'ADDRESSLINE1', 'ADDRESSLINE2', 'CITY', 'STATE', 'POSTALCODE',\n",
       "       'COUNTRY', 'TERRITORY', 'CONTACTLASTNAME', 'CONTACTFIRSTNAME',\n",
       "       'DEALSIZE'],\n",
       "      dtype='object')"
      ]
     },
     "execution_count": 23,
     "metadata": {},
     "output_type": "execute_result"
    }
   ],
   "source": [
    "data.columns"
   ]
  },
  {
   "cell_type": "code",
   "execution_count": 24,
   "id": "511102b3",
   "metadata": {},
   "outputs": [
    {
     "name": "stdout",
     "output_type": "stream",
     "text": [
      "<class 'pandas.core.frame.DataFrame'>\n",
      "RangeIndex: 2823 entries, 0 to 2822\n",
      "Data columns (total 25 columns):\n",
      " #   Column            Non-Null Count  Dtype  \n",
      "---  ------            --------------  -----  \n",
      " 0   ORDERNUMBER       2823 non-null   int64  \n",
      " 1   QUANTITYORDERED   2823 non-null   int64  \n",
      " 2   PRICEEACH         2823 non-null   float64\n",
      " 3   ORDERLINENUMBER   2823 non-null   int64  \n",
      " 4   SALES             2823 non-null   float64\n",
      " 5   ORDERDATE         2823 non-null   object \n",
      " 6   STATUS            2823 non-null   object \n",
      " 7   QTR_ID            2823 non-null   int64  \n",
      " 8   MONTH_ID          2823 non-null   int64  \n",
      " 9   YEAR_ID           2823 non-null   int64  \n",
      " 10  PRODUCTLINE       2823 non-null   object \n",
      " 11  MSRP              2823 non-null   int64  \n",
      " 12  PRODUCTCODE       2823 non-null   object \n",
      " 13  CUSTOMERNAME      2823 non-null   object \n",
      " 14  PHONE             2823 non-null   object \n",
      " 15  ADDRESSLINE1      2823 non-null   object \n",
      " 16  ADDRESSLINE2      302 non-null    object \n",
      " 17  CITY              2823 non-null   object \n",
      " 18  STATE             1337 non-null   object \n",
      " 19  POSTALCODE        2747 non-null   object \n",
      " 20  COUNTRY           2823 non-null   object \n",
      " 21  TERRITORY         1749 non-null   object \n",
      " 22  CONTACTLASTNAME   2823 non-null   object \n",
      " 23  CONTACTFIRSTNAME  2823 non-null   object \n",
      " 24  DEALSIZE          2823 non-null   object \n",
      "dtypes: float64(2), int64(7), object(16)\n",
      "memory usage: 551.5+ KB\n"
     ]
    }
   ],
   "source": [
    "data.info()"
   ]
  },
  {
   "cell_type": "code",
   "execution_count": 25,
   "id": "3f898f61",
   "metadata": {},
   "outputs": [
    {
     "data": {
      "text/plain": [
       "ORDERNUMBER            0\n",
       "QUANTITYORDERED        0\n",
       "PRICEEACH              0\n",
       "ORDERLINENUMBER        0\n",
       "SALES                  0\n",
       "ORDERDATE              0\n",
       "STATUS                 0\n",
       "QTR_ID                 0\n",
       "MONTH_ID               0\n",
       "YEAR_ID                0\n",
       "PRODUCTLINE            0\n",
       "MSRP                   0\n",
       "PRODUCTCODE            0\n",
       "CUSTOMERNAME           0\n",
       "PHONE                  0\n",
       "ADDRESSLINE1           0\n",
       "ADDRESSLINE2        2521\n",
       "CITY                   0\n",
       "STATE               1486\n",
       "POSTALCODE            76\n",
       "COUNTRY                0\n",
       "TERRITORY           1074\n",
       "CONTACTLASTNAME        0\n",
       "CONTACTFIRSTNAME       0\n",
       "DEALSIZE               0\n",
       "dtype: int64"
      ]
     },
     "execution_count": 25,
     "metadata": {},
     "output_type": "execute_result"
    }
   ],
   "source": [
    "data.isnull().sum()"
   ]
  },
  {
   "cell_type": "code",
   "execution_count": 26,
   "id": "8054443c",
   "metadata": {},
   "outputs": [
    {
     "name": "stdout",
     "output_type": "stream",
     "text": [
      "ORDERNUMBER        0\n",
      "QUANTITYORDERED    0\n",
      "PRICEEACH          0\n",
      "SALES              0\n",
      "ORDERDATE          0\n",
      "STATUS             0\n",
      "QTR_ID             0\n",
      "MONTH_ID           0\n",
      "YEAR_ID            0\n",
      "PRODUCTLINE        0\n",
      "MSRP               0\n",
      "PRODUCTCODE        0\n",
      "CUSTOMERNAME       0\n",
      "ADDRESSLINE1       0\n",
      "CITY               0\n",
      "STATE              0\n",
      "POSTALCODE         0\n",
      "COUNTRY            0\n",
      "DEALSIZE           0\n",
      "dtype: int64\n"
     ]
    }
   ],
   "source": [
    "data = data.drop(['ADDRESSLINE2', 'TERRITORY', 'PHONE', 'CONTACTLASTNAME', 'CONTACTFIRSTNAME', 'ORDERLINENUMBER'], axis=1)\n",
    "\n",
    "data['POSTALCODE'] = data['POSTALCODE'].fillna('00000')\n",
    "data['STATE'] = data['STATE'].fillna('Unknown')\n",
    "\n",
    "print(data.isnull().sum())"
   ]
  },
  {
   "cell_type": "code",
   "execution_count": 27,
   "id": "b3e1478d",
   "metadata": {},
   "outputs": [
    {
     "name": "stdout",
     "output_type": "stream",
     "text": [
      "<class 'pandas.core.frame.DataFrame'>\n",
      "RangeIndex: 2823 entries, 0 to 2822\n",
      "Data columns (total 19 columns):\n",
      " #   Column           Non-Null Count  Dtype  \n",
      "---  ------           --------------  -----  \n",
      " 0   ORDERNUMBER      2823 non-null   int64  \n",
      " 1   QUANTITYORDERED  2823 non-null   int64  \n",
      " 2   PRICEEACH        2823 non-null   float64\n",
      " 3   SALES            2823 non-null   float64\n",
      " 4   ORDERDATE        2823 non-null   object \n",
      " 5   STATUS           2823 non-null   object \n",
      " 6   QTR_ID           2823 non-null   int64  \n",
      " 7   MONTH_ID         2823 non-null   int64  \n",
      " 8   YEAR_ID          2823 non-null   int64  \n",
      " 9   PRODUCTLINE      2823 non-null   object \n",
      " 10  MSRP             2823 non-null   int64  \n",
      " 11  PRODUCTCODE      2823 non-null   object \n",
      " 12  CUSTOMERNAME     2823 non-null   object \n",
      " 13  ADDRESSLINE1     2823 non-null   object \n",
      " 14  CITY             2823 non-null   object \n",
      " 15  STATE            2823 non-null   object \n",
      " 16  POSTALCODE       2823 non-null   object \n",
      " 17  COUNTRY          2823 non-null   object \n",
      " 18  DEALSIZE         2823 non-null   object \n",
      "dtypes: float64(2), int64(6), object(11)\n",
      "memory usage: 419.2+ KB\n"
     ]
    }
   ],
   "source": [
    "data.info()"
   ]
  },
  {
   "cell_type": "code",
   "execution_count": 28,
   "id": "b9744680",
   "metadata": {},
   "outputs": [
    {
     "name": "stdout",
     "output_type": "stream",
     "text": [
      "        ORDERNUMBER  QUANTITYORDERED    PRICEEACH         SALES       QTR_ID  \\\n",
      "count   2823.000000      2823.000000  2823.000000   2823.000000  2823.000000   \n",
      "mean   10258.725115        35.092809    83.658544   3553.889072     2.717676   \n",
      "std       92.085478         9.741443    20.174277   1841.865106     1.203878   \n",
      "min    10100.000000         6.000000    26.880000    482.130000     1.000000   \n",
      "25%    10180.000000        27.000000    68.860000   2203.430000     2.000000   \n",
      "50%    10262.000000        35.000000    95.700000   3184.800000     3.000000   \n",
      "75%    10333.500000        43.000000   100.000000   4508.000000     4.000000   \n",
      "max    10425.000000        97.000000   100.000000  14082.800000     4.000000   \n",
      "\n",
      "          MONTH_ID     YEAR_ID         MSRP  \n",
      "count  2823.000000  2823.00000  2823.000000  \n",
      "mean      7.092455  2003.81509   100.715551  \n",
      "std       3.656633     0.69967    40.187912  \n",
      "min       1.000000  2003.00000    33.000000  \n",
      "25%       4.000000  2003.00000    68.000000  \n",
      "50%       8.000000  2004.00000    99.000000  \n",
      "75%      11.000000  2004.00000   124.000000  \n",
      "max      12.000000  2005.00000   214.000000  \n"
     ]
    }
   ],
   "source": [
    "print(data.describe())"
   ]
  },
  {
   "cell_type": "code",
   "execution_count": 29,
   "id": "0a5a2feb",
   "metadata": {},
   "outputs": [
    {
     "data": {
      "image/png": "[encoded data removed]",
      "text/plain": [
       "<Figure size 1000x600 with 1 Axes>"
      ]
     },
     "metadata": {},
     "output_type": "display_data"
    }
   ],
   "source": [
    "import matplotlib.pyplot as plt\n",
    "import seaborn as sns\n",
    "\n",
    "# رسم Boxplot لمتغير `SALES`\n",
    "plt.figure(figsize=(10, 6))\n",
    "sns.boxplot(data['SALES'])\n",
    "plt.title('Sales Distribution')\n",
    "plt.show()"
   ]
  },
  {
   "cell_type": "code",
   "execution_count": 30,
   "id": "2e0ee964",
   "metadata": {},
   "outputs": [
    {
     "name": "stdout",
     "output_type": "stream",
     "text": [
      "Number of outliers in SALES: 81\n"
     ]
    }
   ],
   "source": [
    "Q1 = data['SALES'].quantile(0.25)\n",
    "Q3 = data['SALES'].quantile(0.75)\n",
    "IQR = Q3 - Q1\n",
    "\n",
    "lower_bound = Q1 - 1.5 * IQR\n",
    "upper_bound = Q3 + 1.5 * IQR\n",
    "\n",
    "outliers = data[(data['SALES'] < lower_bound) | (data['SALES'] > upper_bound)]\n",
    "print(f\"Number of outliers in SALES: {len(outliers)}\")"
   ]
  },
  {
   "cell_type": "code",
   "execution_count": 31,
   "id": "5f68df5f",
   "metadata": {},
   "outputs": [
    {
     "name": "stdout",
     "output_type": "stream",
     "text": [
      "Number of duplicate rows: 0\n"
     ]
    }
   ],
   "source": [
    "duplicates = data.duplicated().sum()\n",
    "print(f\"Number of duplicate rows: {duplicates}\")"
   ]
  },
  {
   "cell_type": "code",
   "execution_count": 33,
   "id": "f71e6da8",
   "metadata": {},
   "outputs": [
    {
     "name": "stdout",
     "output_type": "stream",
     "text": [
      "Number of negative sales values: 0\n"
     ]
    }
   ],
   "source": [
    "negative_sales = data[data['SALES'] < 0]\n",
    "print(f\"Number of negative sales values: {len(negative_sales)}\")\n",
    "\n",
    "if len(negative_sales) > 0:\n",
    "    print(negative_sales)\n"
   ]
  },
  {
   "cell_type": "code",
   "execution_count": 34,
   "id": "35dbfe87",
   "metadata": {},
   "outputs": [
    {
     "name": "stdout",
     "output_type": "stream",
     "text": [
      "Number of negative price values: 0\n"
     ]
    }
   ],
   "source": [
    "negative_prices = data[data['PRICEEACH'] < 0]\n",
    "print(f\"Number of negative price values: {len(negative_prices)}\")\n",
    "\n",
    "if len(negative_prices) > 0:\n",
    "    print(negative_prices)\n"
   ]
  },
  {
   "cell_type": "code",
   "execution_count": 36,
   "id": "6bda2ad6",
   "metadata": {},
   "outputs": [
    {
     "name": "stdout",
     "output_type": "stream",
     "text": [
      "Number of invalid quantity values: 0\n"
     ]
    }
   ],
   "source": [
    "invalid_quantity = data[data['QUANTITYORDERED'] <= 0]\n",
    "print(f\"Number of invalid quantity values: {len(invalid_quantity)}\")\n",
    "\n",
    "if len(invalid_quantity) > 0:\n",
    "    print(invalid_quantity)\n"
   ]
  },
  {
   "cell_type": "code",
   "execution_count": 37,
   "id": "12bf7b15",
   "metadata": {},
   "outputs": [
    {
     "name": "stdout",
     "output_type": "stream",
     "text": [
      "Unique values in STATUS:\n",
      " ['Shipped' 'Disputed' 'In Process' 'Cancelled' 'On Hold' 'Resolved']\n",
      "\n",
      "Unique values in PRODUCTLINE:\n",
      " ['Motorcycles' 'Classic Cars' 'Trucks and Buses' 'Vintage Cars' 'Planes'\n",
      " 'Ships' 'Trains']\n",
      "\n",
      "Unique values in COUNTRY:\n",
      " ['USA' 'France' 'Norway' 'Australia' 'Finland' 'Austria' 'UK' 'Spain'\n",
      " 'Sweden' 'Singapore' 'Canada' 'Japan' 'Italy' 'Denmark' 'Belgium'\n",
      " 'Philippines' 'Germany' 'Switzerland' 'Ireland']\n"
     ]
    }
   ],
   "source": [
    "print(\"Unique values in STATUS:\\n\", data['STATUS'].unique())\n",
    "print(\"\\nUnique values in PRODUCTLINE:\\n\", data['PRODUCTLINE'].unique())\n",
    "print(\"\\nUnique values in COUNTRY:\\n\", data['COUNTRY'].unique())\n"
   ]
  },
  {
   "cell_type": "code",
   "execution_count": 38,
   "id": "ad7ea3f3",
   "metadata": {},
   "outputs": [
    {
     "name": "stdout",
     "output_type": "stream",
     "text": [
      "Number of future dates: 0\n"
     ]
    }
   ],
   "source": [
    "from datetime import datetime\n",
    "\n",
    "data['ORDERDATE'] = pd.to_datetime(data['ORDERDATE'])\n",
    "\n",
    "future_dates = data[data['ORDERDATE'] > datetime.now()]\n",
    "print(f\"Number of future dates: {len(future_dates)}\")\n",
    "\n",
    "if len(future_dates) > 0:\n",
    "    print(future_dates)\n"
   ]
  },
  {
   "cell_type": "code",
   "execution_count": 39,
   "id": "d1f9b6e9",
   "metadata": {},
   "outputs": [
    {
     "name": "stdout",
     "output_type": "stream",
     "text": [
      "STATUS             0\n",
      "PRODUCTLINE        0\n",
      "PRODUCTCODE        0\n",
      "CUSTOMERNAME       0\n",
      "ADDRESSLINE1       0\n",
      "CITY               0\n",
      "STATE              0\n",
      "POSTALCODE      2282\n",
      "COUNTRY            0\n",
      "DEALSIZE           0\n",
      "dtype: int64\n"
     ]
    }
   ],
   "source": [
    "text_columns = data.select_dtypes(include=['object']).columns\n",
    "data[text_columns] = data[text_columns].apply(lambda x: x.str.strip())\n",
    "\n",
    "print(data[text_columns].isnull().sum())"
   ]
  },
  {
   "cell_type": "code",
   "execution_count": 40,
   "id": "1172e20f",
   "metadata": {},
   "outputs": [
    {
     "name": "stdout",
     "output_type": "stream",
     "text": [
      "POSTALCODE    0\n",
      "dtype: int64\n"
     ]
    },
    {
     "name": "stderr",
     "output_type": "stream",
     "text": [
      "C:\\Users\\Asus\\AppData\\Local\\Temp\\ipykernel_10048\\3022988746.py:1: FutureWarning: A value is trying to be set on a copy of a DataFrame or Series through chained assignment using an inplace method.\n",
      "The behavior will change in pandas 3.0. This inplace method will never work because the intermediate object on which we are setting values always behaves as a copy.\n",
      "\n",
      "For example, when doing 'df[col].method(value, inplace=True)', try using 'df.method({col: value}, inplace=True)' or df[col] = df[col].method(value) instead, to perform the operation inplace on the original object.\n",
      "\n",
      "\n",
      "  data['POSTALCODE'].fillna('00000', inplace=True)\n"
     ]
    }
   ],
   "source": [
    "data['POSTALCODE'].fillna('00000', inplace=True)\n",
    "print(data[['POSTALCODE']].isnull().sum())\n"
   ]
  },
  {
   "cell_type": "code",
   "execution_count": 42,
   "id": "b071f833",
   "metadata": {},
   "outputs": [
    {
     "name": "stdout",
     "output_type": "stream",
     "text": [
      "Basic Statistics for Numerical Columns:\n",
      "        ORDERNUMBER  QUANTITYORDERED    PRICEEACH         SALES  \\\n",
      "count   2823.000000      2823.000000  2823.000000   2823.000000   \n",
      "mean   10258.725115        35.092809    83.658544   3553.889072   \n",
      "min    10100.000000         6.000000    26.880000    482.130000   \n",
      "25%    10180.000000        27.000000    68.860000   2203.430000   \n",
      "50%    10262.000000        35.000000    95.700000   3184.800000   \n",
      "75%    10333.500000        43.000000   100.000000   4508.000000   \n",
      "max    10425.000000        97.000000   100.000000  14082.800000   \n",
      "std       92.085478         9.741443    20.174277   1841.865106   \n",
      "\n",
      "                           ORDERDATE       QTR_ID     MONTH_ID     YEAR_ID  \\\n",
      "count                           2823  2823.000000  2823.000000  2823.00000   \n",
      "mean   2004-05-11 00:16:49.989373056     2.717676     7.092455  2003.81509   \n",
      "min              2003-01-06 00:00:00     1.000000     1.000000  2003.00000   \n",
      "25%              2003-11-06 12:00:00     2.000000     4.000000  2003.00000   \n",
      "50%              2004-06-15 00:00:00     3.000000     8.000000  2004.00000   \n",
      "75%              2004-11-17 12:00:00     4.000000    11.000000  2004.00000   \n",
      "max              2005-05-31 00:00:00     4.000000    12.000000  2005.00000   \n",
      "std                              NaN     1.203878     3.656633     0.69967   \n",
      "\n",
      "              MSRP  \n",
      "count  2823.000000  \n",
      "mean    100.715551  \n",
      "min      33.000000  \n",
      "25%      68.000000  \n",
      "50%      99.000000  \n",
      "75%     124.000000  \n",
      "max     214.000000  \n",
      "std      40.187912  \n",
      "\n",
      "Basic Statistics for Categorical Columns:\n",
      "         STATUS   PRODUCTLINE PRODUCTCODE           CUSTOMERNAME  \\\n",
      "count      2823          2823        2823                   2823   \n",
      "unique        6             7         109                     92   \n",
      "top     Shipped  Classic Cars    S18_3232  Euro Shopping Channel   \n",
      "freq       2617           967          52                    259   \n",
      "\n",
      "              ADDRESSLINE1    CITY    STATE POSTALCODE COUNTRY DEALSIZE  \n",
      "count                 2823    2823     2823       2823    2823     2823  \n",
      "unique                  92      73       17         19      19        3  \n",
      "top     C/ Moralzarzal, 86  Madrid  Unknown      00000     USA   Medium  \n",
      "freq                   259     304     1486       2358    1004     1384  \n"
     ]
    }
   ],
   "source": [
    "print(\"Basic Statistics for Numerical Columns:\")\n",
    "print(data.describe())\n",
    "\n",
    "print(\"\\nBasic Statistics for Categorical Columns:\")\n",
    "print(data.describe(include=['object']))"
   ]
  },
  {
   "cell_type": "code",
   "execution_count": null,
   "id": "1684939c",
   "metadata": {},
   "outputs": [
    {
     "data": {
      "image/png": "[encoded data removed]",
      "text/plain": [
       "<Figure size 1500x600 with 3 Axes>"
      ]
     },
     "metadata": {},
     "output_type": "display_data"
    }
   ],
   "source": [
    "import matplotlib.pyplot as plt\n",
    "import seaborn as sns\n",
    "\n",
    "columns_to_check = ['SALES', 'PRICEEACH', 'QUANTITYORDERED']\n",
    "\n",
    "plt.figure(figsize=(15, 6))\n",
    "for i, col in enumerate(columns_to_check):\n",
    "    plt.subplot(1, 3, i + 1)\n",
    "    sns.boxplot(data[col])\n",
    "    plt.title(f\"Boxplot for {col}\")\n",
    "\n",
    "plt.tight_layout()\n",
    "plt.show()\n"
   ]
  },
  {
   "cell_type": "code",
   "execution_count": null,
   "id": "bafe2a48",
   "metadata": {},
   "outputs": [],
   "source": []
  }
 ],
 "metadata": {
  "kernelspec": {
   "display_name": "llm-env",
   "language": "python",
   "name": "llm-env"
  },
  "language_info": {
   "codemirror_mode": {
    "name": "ipython",
    "version": 3
   },
   "file_extension": ".py",
   "mimetype": "text/x-python",
   "name": "python",
   "nbconvert_exporter": "python",
   "pygments_lexer": "ipython3",
   "version": "3.12.7"
  }
 },
 "nbformat": 4,
 "nbformat_minor": 5
}
